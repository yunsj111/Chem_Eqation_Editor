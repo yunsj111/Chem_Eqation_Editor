{
 "cells": [
  {
   "cell_type": "code",
   "execution_count": null,
   "id": "f5a30e3f",
   "metadata": {},
   "outputs": [
    {
     "ename": "NameError",
     "evalue": "name '__file__' is not defined",
     "output_type": "error",
     "traceback": [
      "\u001b[31m---------------------------------------------------------------------------\u001b[39m",
      "\u001b[31mNameError\u001b[39m                                 Traceback (most recent call last)",
      "\u001b[36mCell\u001b[39m\u001b[36m \u001b[39m\u001b[32mIn[2]\u001b[39m\u001b[32m, line 5\u001b[39m\n\u001b[32m      2\u001b[39m \u001b[38;5;28;01mimport\u001b[39;00m\u001b[38;5;250m \u001b[39m\u001b[34;01mos\u001b[39;00m\n\u001b[32m      4\u001b[39m \u001b[38;5;66;03m# 프로젝트 루트 디렉토리를 sys.path에 추가\u001b[39;00m\n\u001b[32m----> \u001b[39m\u001b[32m5\u001b[39m project_root = os.path.abspath(os.path.join(os.path.dirname(\u001b[34;43m__file__\u001b[39;49m), \u001b[33m'\u001b[39m\u001b[33m..\u001b[39m\u001b[33m'\u001b[39m))\n\u001b[32m      6\u001b[39m sys.path.insert(\u001b[32m0\u001b[39m, project_root)\n\u001b[32m      8\u001b[39m \u001b[38;5;66;03m# 이제 절대 임포트 가능\u001b[39;00m\n",
      "\u001b[31mNameError\u001b[39m: name '__file__' is not defined"
     ]
    }
   ],
   "source": [
    "import sys\n",
    "import os\n",
    "\n",
    "# 프로젝트 루트 디렉토리를 sys.path에 추가\n",
    "project_root = os.path.abspath(os.path.join(os.path.dirname(__file__), '..'))\n",
    "sys.path.insert(0, project_root)\n",
    "\n",
    "# 이제 절대 임포트 가능\n",
    "from models.molecule import Molecule\n",
    "from models.atom import Atom\n",
    "from models.bond import Bond\n",
    "\n",
    "print(\"모든 모듈이 성공적으로 임포트되었습니다!\")\n",
    "print(f\"프로젝트 루트: {project_root}\")"
   ]
  },
  {
   "cell_type": "code",
   "execution_count": null,
   "id": "c1f51b2f",
   "metadata": {},
   "outputs": [],
   "source": [
    "# 임포트한 클래스들 테스트\n",
    "print(\"=== 임포트 테스트 ===\")\n",
    "\n",
    "# Molecule 클래스 확인\n",
    "print(f\"Molecule 클래스: {Molecule}\")\n",
    "\n",
    "# Atom 클래스 확인  \n",
    "print(f\"Atom 클래스: {Atom}\")\n",
    "\n",
    "# Bond 클래스 확인\n",
    "print(f\"Bond 클래스: {Bond}\")\n",
    "\n",
    "# 간단한 인스턴스 생성 테스트 (클래스에 따라 매개변수 조정 필요)\n",
    "try:\n",
    "    # molecule = Molecule()\n",
    "    # atom = Atom()\n",
    "    # bond = Bond()\n",
    "    print(\"클래스 인스턴스 생성 준비 완료\")\n",
    "except Exception as e:\n",
    "    print(f\"인스턴스 생성 시 오류: {e}\")\n",
    "    print(\"클래스 생성자에 필요한 매개변수를 확인하세요\")"
   ]
  }
 ],
 "metadata": {
  "kernelspec": {
   "display_name": "Python 3",
   "language": "python",
   "name": "python3"
  },
  "language_info": {
   "codemirror_mode": {
    "name": "ipython",
    "version": 3
   },
   "file_extension": ".py",
   "mimetype": "text/x-python",
   "name": "python",
   "nbconvert_exporter": "python",
   "pygments_lexer": "ipython3",
   "version": "3.12.1"
  }
 },
 "nbformat": 4,
 "nbformat_minor": 5
}
