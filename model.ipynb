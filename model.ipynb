{
 "cells": [
  {
   "cell_type": "code",
   "execution_count": 2,
   "id": "f5a30e3f",
   "metadata": {},
   "outputs": [],
   "source": [
    "from models.molecule import Molecule\n",
    "from models.atom import Atom\n",
    "from models.bond import Bond\n",
    "from components.molecule_drawer import *\n",
    "from components.pattern_matcher import *\n",
    "from components.smarts_generator import *\n",
    "from components.utils import *"
   ]
  },
  {
   "cell_type": "code",
   "execution_count": 4,
   "id": "c1f51b2f",
   "metadata": {},
   "outputs": [],
   "source": [
    "a = Atom(id=1, element='C', x=0, y=0)"
   ]
  },
  {
   "cell_type": "code",
   "execution_count": 8,
   "id": "4b413d92",
   "metadata": {},
   "outputs": [
    {
     "data": {
      "text/plain": [
       "'C'"
      ]
     },
     "execution_count": 8,
     "metadata": {},
     "output_type": "execute_result"
    }
   ],
   "source": [
    "a.get_display_text()"
   ]
  },
  {
   "cell_type": "code",
   "execution_count": null,
   "id": "96adfa4b",
   "metadata": {},
   "outputs": [],
   "source": []
  }
 ],
 "metadata": {
  "kernelspec": {
   "display_name": "Python 3",
   "language": "python",
   "name": "python3"
  },
  "language_info": {
   "codemirror_mode": {
    "name": "ipython",
    "version": 3
   },
   "file_extension": ".py",
   "mimetype": "text/x-python",
   "name": "python",
   "nbconvert_exporter": "python",
   "pygments_lexer": "ipython3",
   "version": "3.12.1"
  }
 },
 "nbformat": 4,
 "nbformat_minor": 5
}
